{
 "cells": [
  {
   "cell_type": "code",
   "execution_count": 1,
   "id": "22af1f79-cc29-4b15-ab3a-81b91bec9269",
   "metadata": {},
   "outputs": [],
   "source": [
    "import numpy as np\n",
    "import matplotlib.pyplot as plt\n",
    "import random"
   ]
  },
  {
   "cell_type": "code",
   "execution_count": 52,
   "id": "648a76cc-be6e-4ca5-8b07-1514417df3e3",
   "metadata": {},
   "outputs": [
    {
     "data": {
      "text/plain": [
       "array([[0, 0, 0, 0, 0],\n",
       "       [0, 0, 0, 0, 0],\n",
       "       [0, 0, 0, 1, 0],\n",
       "       [0, 1, 1, 0, 0],\n",
       "       [0, 0, 0, 0, 1]], dtype=int8)"
      ]
     },
     "execution_count": 52,
     "metadata": {},
     "output_type": "execute_result"
    }
   ],
   "source": [
    "N = 5\n",
    "grid = np.clip(np.random.randint(0,2,(N,N), dtype=np.int8) - np.random.randint(0,2,(N,N), dtype=np.int8), 0,1)\n",
    "start = (0,0)\n",
    "goal = (4,4)\n",
    "\n",
    "grid"
   ]
  },
  {
   "cell_type": "code",
   "execution_count": 53,
   "id": "cfc4f289-986e-4676-8008-4615e12f3e36",
   "metadata": {},
   "outputs": [],
   "source": [
    "def set_reward(grid, start, goal, penalty = -10, rwd = 100, neutral = 1):\n",
    "    reward = np.copy(grid)\n",
    "    reward *= (penalty-neutral)\n",
    "    reward += neutral\n",
    "    reward[start] = 0\n",
    "    reward[goal] = rwd\n",
    "    return reward"
   ]
  },
  {
   "cell_type": "code",
   "execution_count": 56,
   "id": "a0db5bb6-5d57-43e4-b7c6-1da9c4da44da",
   "metadata": {},
   "outputs": [],
   "source": [
    "def qlearning(grid, start, goal, epoch, alpha=0.5, gamma=0.9):\n",
    "    reward = set_reward(grid, start, goal)\n",
    "    Q = np.zeros((N*N,4))\n",
    "    action_set = np.asarray([(-1,0), (1,0), (0,-1), (0,1)])\n",
    "    for _ in range(epoch):\n",
    "        init = random.choice(np.arange(Q.shape[0]))\n",
    "        t = random.choice(action_set)\n",
    "        r = init + t[0] + N*t[1]\n",
    "        if r >=0 and r < N*N:\n",
    "            Q[r,np.where(action_set==t)] = (1 - alpha) * Q[r,np.where(action_set==t)] + alpha * (reward[r//N, r%N] + gamma * np.max(Q[r]))\n",
    "    return Q        \n"
   ]
  },
  {
   "cell_type": "code",
   "execution_count": 57,
   "id": "7ddda36f-d500-4b87-92cf-f7dcc28fec5d",
   "metadata": {},
   "outputs": [
    {
     "data": {
      "text/plain": [
       "array([[  0.        ,   0.        ,   0.        ,   0.        ],\n",
       "       [  9.99999936,   9.99999936,   9.99999927,   9.99999927],\n",
       "       [  9.99999855,   9.99999855,   9.99999847,   9.99999847],\n",
       "       [  9.99999782,   9.99999782,   9.99999758,   9.99999758],\n",
       "       [  9.99999528,   9.99999528,   9.99999321,   9.99999321],\n",
       "       [  9.99999999,   9.99999999,   9.99999999,   9.99999999],\n",
       "       [  9.99999997,   9.99999997,   9.99999997,   9.99999997],\n",
       "       [  9.99999999,   9.99999999,   9.99999999,   9.99999999],\n",
       "       [  9.99999996,   9.99999996,   9.99999996,   9.99999996],\n",
       "       [ 10.        ,  10.        ,  10.        ,  10.        ],\n",
       "       [  9.99999999,   9.99999999,   9.99999999,   9.99999999],\n",
       "       [  9.99999997,   9.99999997,   9.99999997,   9.99999997],\n",
       "       [ 10.        ,  10.        ,   9.99999999,   9.99999999],\n",
       "       [-99.99853483, -99.99853483, -99.99853438, -99.99853438],\n",
       "       [ 10.        ,  10.        ,   9.99999999,   9.99999999],\n",
       "       [  9.99999998,   9.99999998,   9.99999998,   9.99999998],\n",
       "       [-99.99832364, -99.99832364, -99.9982006 , -99.9982006 ],\n",
       "       [-99.99523974, -99.99523974, -99.99471637, -99.99471637],\n",
       "       [  9.99999995,   9.99999995,   9.99999994,   9.99999994],\n",
       "       [  9.99999989,   9.99999989,   9.99999987,   9.99999987],\n",
       "       [  9.99999955,   9.99999955,   9.99999953,   9.99999953],\n",
       "       [  9.99999745,   9.99999745,   9.99999647,   9.99999647],\n",
       "       [  9.99999792,   9.99999792,   9.99999773,   9.99999773],\n",
       "       [  9.99999745,   9.99999745,   9.99999666,   9.99999666],\n",
       "       [999.98200599, 999.98200599, 999.97783593, 999.97783593]])"
      ]
     },
     "execution_count": 57,
     "metadata": {},
     "output_type": "execute_result"
    }
   ],
   "source": [
    "qlearning(grid, start, goal, 10000)"
   ]
  },
  {
   "cell_type": "code",
   "execution_count": null,
   "id": "9f95c2b8-1d9e-47b7-9386-5fc1a3d613f9",
   "metadata": {},
   "outputs": [],
   "source": []
  }
 ],
 "metadata": {
  "kernelspec": {
   "display_name": "Python 3 (ipykernel)",
   "language": "python",
   "name": "python3"
  },
  "language_info": {
   "codemirror_mode": {
    "name": "ipython",
    "version": 3
   },
   "file_extension": ".py",
   "mimetype": "text/x-python",
   "name": "python",
   "nbconvert_exporter": "python",
   "pygments_lexer": "ipython3",
   "version": "3.10.12"
  }
 },
 "nbformat": 4,
 "nbformat_minor": 5
}
